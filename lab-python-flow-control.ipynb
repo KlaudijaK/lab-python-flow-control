{
 "cells": [
  {
   "cell_type": "markdown",
   "id": "d3bfc191-8885-42ee-b0a0-bbab867c6f9f",
   "metadata": {
    "tags": []
   },
   "source": [
    "# Lab | Flow Control"
   ]
  },
  {
   "cell_type": "markdown",
   "id": "3851fcd1-cf98-4653-9c89-e003b7ec9400",
   "metadata": {},
   "source": [
    "## Exercise: Managing Customer Orders Optimized\n",
    "\n",
    "In the last lab, you were starting an online store that sells various products. To ensure smooth operations, you developed a program that manages customer orders and inventory.\n",
    "\n",
    "You did so without using flow control. Let's go a step further and improve this code.\n",
    "\n",
    "Follow the steps below to complete the exercise:\n",
    "\n",
    "1. Look at your code from the lab data structures, and improve repeated code with loops.\n",
    "\n",
    "2. Instead of asking the user to input the name of three products that a customer wants to order, do the following:\n",
    "    \n",
    "    a. Prompt the user to enter the name of a product that a customer wants to order.\n",
    "    \n",
    "    b. Add the product name to the \"customer_orders\" set.\n",
    "    \n",
    "    c. Ask the user if they want to add another product (yes/no).\n",
    "    \n",
    "    d. Continue the loop until the user does not want to add another product.\n",
    "\n",
    "3. Instead of updating the inventory by subtracting 1 from the quantity of each product, only do it for  the products that were ordered (those in \"customer_orders\")."
   ]
  },
  {
   "cell_type": "code",
   "execution_count": 8,
   "id": "5fc26be8",
   "metadata": {},
   "outputs": [
    {
     "name": "stdout",
     "output_type": "stream",
     "text": [
      "Products in your order: {'keychain', 'mug', 'hat'}\n",
      "book added to your order.\n",
      "Products ordered: {'keychain', 'mug', 'book', 'hat'}\n",
      "order statistics:\n",
      "Percentage of products ordered: 80.00%\n",
      "\n",
      "Updated Inventory:\n",
      "mug: 2\n",
      "hat: 6\n",
      "keychain: 1\n",
      "book: 2\n"
     ]
    }
   ],
   "source": [
    "products = [\"t-shirt\", \"mug\", \"hat\", \"book\", \"keychain\"]\n",
    "\n",
    "inventory = {}\n",
    "\n",
    "customer_orders = set()\n",
    "\n",
    "for product in products:\n",
    "    while len(customer_orders) < 3:\n",
    "        product = input(\"Enter the product you want to order: \").strip().lower()\n",
    "        quantity = (input(f\"Enter the quantity for {product}: \"))\n",
    "        inventory[product] = quantity\n",
    "        if product in products:\n",
    "            customer_orders.add(product)\n",
    "        else:\n",
    "            print(\"Product not available. Please choose from the available products.\")\n",
    "        break\n",
    "print(\"Products in your order:\", customer_orders)\n",
    "\n",
    "while True:\n",
    "    product = input(\"Do you want to add more products? (yes/no): \").strip().lower()\n",
    "    if product == \"yes\":\n",
    "        new_product = input(\"Enter the product you want to order: \").strip().lower()\n",
    "        quantity = (input(f\"Enter the quantity for {product}: \"))\n",
    "        if new_product in products:\n",
    "            customer_orders.add(new_product)\n",
    "            print(f\"{new_product} added to your order.\")\n",
    "            inventory[new_product] = quantity   \n",
    "        else:\n",
    "            print(\"Product not available. Please choose from the available products.\")\n",
    "    elif product == \"no\":\n",
    "        break\n",
    "    else:\n",
    "        print(\"Invalid input. Please enter 'yes' or 'no'.\")\n",
    "\n",
    "total_products_ordered = sum(int(inventory[product]) for product in customer_orders if product in inventory)\n",
    "percentage_ordered = (len(customer_orders) / len(products)) * 100\n",
    "\n",
    "order_status = (total_products_ordered, percentage_ordered)\n",
    "\n",
    "\n",
    "for product in customer_orders:\n",
    "    if product in inventory and int(inventory[product]) > 0:  # Check if product exists in inventory\n",
    "        inventory[product] = str(int(inventory[product]) - 1)  # Update inventory and store as string\n",
    "        \n",
    "print(\"Products ordered:\", customer_orders)\n",
    "print(\"order statistics:\")\n",
    "print(f\"Percentage of products ordered: {percentage_ordered:.2f}%\")\n",
    "\n",
    "\n",
    "print(\"\\nUpdated Inventory:\")\n",
    "for product, quantity in inventory.items():\n",
    "    print(f\"{product}: {quantity}\")\n"
   ]
  }
 ],
 "metadata": {
  "kernelspec": {
   "display_name": "base",
   "language": "python",
   "name": "python3"
  },
  "language_info": {
   "codemirror_mode": {
    "name": "ipython",
    "version": 3
   },
   "file_extension": ".py",
   "mimetype": "text/x-python",
   "name": "python",
   "nbconvert_exporter": "python",
   "pygments_lexer": "ipython3",
   "version": "3.12.7"
  }
 },
 "nbformat": 4,
 "nbformat_minor": 5
}
